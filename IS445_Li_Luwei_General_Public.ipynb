{
 "cells": [
  {
   "cell_type": "markdown",
   "source": [
    "#  Visualization General Public\n",
    "#  The dataset named \"NBA Player Statistics\".\n",
    "#  The dataset was provided by data.world\n",
    "# we can obtain the data from https://www.basketball-reference.com/ and https://colab.research.google.com/drive/1fb4y802jp9b7DE-aEq5aSyQAIhmOqzPF?usp=sharing\n",
    "# the dataset is available for public.\n",
    "# The dataset file size is approximately 2.1 MB.\n",
    "# The dataset contains 14,573 items (rows).\n"
   ],
   "metadata": {
    "collapsed": false,
    "pycharm": {
     "name": "#%% md\n"
    }
   }
  },
  {
   "cell_type": "code",
   "execution_count": 123,
   "outputs": [],
   "source": [
    "import pandas as pd\n",
    "import matplotlib.pyplot as plt\n",
    "import numpy as np"
   ],
   "metadata": {
    "collapsed": false,
    "pycharm": {
     "name": "#%%\n"
    }
   }
  },
  {
   "cell_type": "code",
   "execution_count": 124,
   "outputs": [],
   "source": [
    "# Load the CSV file into a DataFrame\n",
    "nba_data = pd.read_csv(\"NBA_Player_Stats_2.csv\")"
   ],
   "metadata": {
    "collapsed": false,
    "pycharm": {
     "name": "#%%\n"
    }
   }
  },
  {
   "cell_type": "code",
   "execution_count": 125,
   "outputs": [
    {
     "data": {
      "text/plain": "   Rk               Player Pos  Age   Tm   G  GS    MP   FG   FGA  ...  DRB  \\\n0   1   Mahmoud Abdul-Rauf  PG   28  SAC  31   0  17.1  3.3   8.8  ...  1.0   \n1   2    Tariq Abdul-Wahad  SG   23  SAC  59  16  16.3  2.4   6.1  ...  1.2   \n2   3  Shareef Abdur-Rahim  SF   21  VAN  82  82  36.0  8.0  16.4  ...  4.3   \n3   4       Cory Alexander  PG   24  TOT  60  22  21.6  2.9   6.7  ...  2.2   \n4   4       Cory Alexander  PG   24  SAS  37   3  13.5  1.6   3.9  ...  1.1   \n\n   TRB  AST  STL  BLK  TOV   PF   PTS   Season    MVP  \n0  1.2  1.9  0.5  0.0  0.6  1.0   7.3  1997-98  False  \n1  2.0  0.9  0.6  0.2  1.1  1.4   6.4  1997-98  False  \n2  7.1  2.6  1.1  0.9  3.1  2.5  22.3  1997-98  False  \n3  2.4  3.5  1.2  0.2  1.9  1.6   8.1  1997-98  False  \n4  1.3  1.9  0.7  0.1  1.3  1.4   4.5  1997-98  False  \n\n[5 rows x 32 columns]",
      "text/html": "<div>\n<style scoped>\n    .dataframe tbody tr th:only-of-type {\n        vertical-align: middle;\n    }\n\n    .dataframe tbody tr th {\n        vertical-align: top;\n    }\n\n    .dataframe thead th {\n        text-align: right;\n    }\n</style>\n<table border=\"1\" class=\"dataframe\">\n  <thead>\n    <tr style=\"text-align: right;\">\n      <th></th>\n      <th>Rk</th>\n      <th>Player</th>\n      <th>Pos</th>\n      <th>Age</th>\n      <th>Tm</th>\n      <th>G</th>\n      <th>GS</th>\n      <th>MP</th>\n      <th>FG</th>\n      <th>FGA</th>\n      <th>...</th>\n      <th>DRB</th>\n      <th>TRB</th>\n      <th>AST</th>\n      <th>STL</th>\n      <th>BLK</th>\n      <th>TOV</th>\n      <th>PF</th>\n      <th>PTS</th>\n      <th>Season</th>\n      <th>MVP</th>\n    </tr>\n  </thead>\n  <tbody>\n    <tr>\n      <th>0</th>\n      <td>1</td>\n      <td>Mahmoud Abdul-Rauf</td>\n      <td>PG</td>\n      <td>28</td>\n      <td>SAC</td>\n      <td>31</td>\n      <td>0</td>\n      <td>17.1</td>\n      <td>3.3</td>\n      <td>8.8</td>\n      <td>...</td>\n      <td>1.0</td>\n      <td>1.2</td>\n      <td>1.9</td>\n      <td>0.5</td>\n      <td>0.0</td>\n      <td>0.6</td>\n      <td>1.0</td>\n      <td>7.3</td>\n      <td>1997-98</td>\n      <td>False</td>\n    </tr>\n    <tr>\n      <th>1</th>\n      <td>2</td>\n      <td>Tariq Abdul-Wahad</td>\n      <td>SG</td>\n      <td>23</td>\n      <td>SAC</td>\n      <td>59</td>\n      <td>16</td>\n      <td>16.3</td>\n      <td>2.4</td>\n      <td>6.1</td>\n      <td>...</td>\n      <td>1.2</td>\n      <td>2.0</td>\n      <td>0.9</td>\n      <td>0.6</td>\n      <td>0.2</td>\n      <td>1.1</td>\n      <td>1.4</td>\n      <td>6.4</td>\n      <td>1997-98</td>\n      <td>False</td>\n    </tr>\n    <tr>\n      <th>2</th>\n      <td>3</td>\n      <td>Shareef Abdur-Rahim</td>\n      <td>SF</td>\n      <td>21</td>\n      <td>VAN</td>\n      <td>82</td>\n      <td>82</td>\n      <td>36.0</td>\n      <td>8.0</td>\n      <td>16.4</td>\n      <td>...</td>\n      <td>4.3</td>\n      <td>7.1</td>\n      <td>2.6</td>\n      <td>1.1</td>\n      <td>0.9</td>\n      <td>3.1</td>\n      <td>2.5</td>\n      <td>22.3</td>\n      <td>1997-98</td>\n      <td>False</td>\n    </tr>\n    <tr>\n      <th>3</th>\n      <td>4</td>\n      <td>Cory Alexander</td>\n      <td>PG</td>\n      <td>24</td>\n      <td>TOT</td>\n      <td>60</td>\n      <td>22</td>\n      <td>21.6</td>\n      <td>2.9</td>\n      <td>6.7</td>\n      <td>...</td>\n      <td>2.2</td>\n      <td>2.4</td>\n      <td>3.5</td>\n      <td>1.2</td>\n      <td>0.2</td>\n      <td>1.9</td>\n      <td>1.6</td>\n      <td>8.1</td>\n      <td>1997-98</td>\n      <td>False</td>\n    </tr>\n    <tr>\n      <th>4</th>\n      <td>4</td>\n      <td>Cory Alexander</td>\n      <td>PG</td>\n      <td>24</td>\n      <td>SAS</td>\n      <td>37</td>\n      <td>3</td>\n      <td>13.5</td>\n      <td>1.6</td>\n      <td>3.9</td>\n      <td>...</td>\n      <td>1.1</td>\n      <td>1.3</td>\n      <td>1.9</td>\n      <td>0.7</td>\n      <td>0.1</td>\n      <td>1.3</td>\n      <td>1.4</td>\n      <td>4.5</td>\n      <td>1997-98</td>\n      <td>False</td>\n    </tr>\n  </tbody>\n</table>\n<p>5 rows × 32 columns</p>\n</div>"
     },
     "execution_count": 125,
     "metadata": {},
     "output_type": "execute_result"
    }
   ],
   "source": [
    "# Display the first few rows of the DataFrame\n",
    "nba_data.head()"
   ],
   "metadata": {
    "collapsed": false,
    "pycharm": {
     "name": "#%%\n"
    }
   }
  },
  {
   "cell_type": "code",
   "execution_count": 126,
   "outputs": [
    {
     "data": {
      "text/plain": "   Rk               Player Pos  Age   Tm   G  TRB  AST  STL  BLK   PTS  \\\n0   1   Mahmoud Abdul-Rauf  PG   28  SAC  31  1.2  1.9  0.5  0.0   7.3   \n1   2    Tariq Abdul-Wahad  SG   23  SAC  59  2.0  0.9  0.6  0.2   6.4   \n2   3  Shareef Abdur-Rahim  SF   21  VAN  82  7.1  2.6  1.1  0.9  22.3   \n3   4       Cory Alexander  PG   24  TOT  60  2.4  3.5  1.2  0.2   8.1   \n4   4       Cory Alexander  PG   24  SAS  37  1.3  1.9  0.7  0.1   4.5   \n\n    Season    MVP  \n0  1997-98  False  \n1  1997-98  False  \n2  1997-98  False  \n3  1997-98  False  \n4  1997-98  False  ",
      "text/html": "<div>\n<style scoped>\n    .dataframe tbody tr th:only-of-type {\n        vertical-align: middle;\n    }\n\n    .dataframe tbody tr th {\n        vertical-align: top;\n    }\n\n    .dataframe thead th {\n        text-align: right;\n    }\n</style>\n<table border=\"1\" class=\"dataframe\">\n  <thead>\n    <tr style=\"text-align: right;\">\n      <th></th>\n      <th>Rk</th>\n      <th>Player</th>\n      <th>Pos</th>\n      <th>Age</th>\n      <th>Tm</th>\n      <th>G</th>\n      <th>TRB</th>\n      <th>AST</th>\n      <th>STL</th>\n      <th>BLK</th>\n      <th>PTS</th>\n      <th>Season</th>\n      <th>MVP</th>\n    </tr>\n  </thead>\n  <tbody>\n    <tr>\n      <th>0</th>\n      <td>1</td>\n      <td>Mahmoud Abdul-Rauf</td>\n      <td>PG</td>\n      <td>28</td>\n      <td>SAC</td>\n      <td>31</td>\n      <td>1.2</td>\n      <td>1.9</td>\n      <td>0.5</td>\n      <td>0.0</td>\n      <td>7.3</td>\n      <td>1997-98</td>\n      <td>False</td>\n    </tr>\n    <tr>\n      <th>1</th>\n      <td>2</td>\n      <td>Tariq Abdul-Wahad</td>\n      <td>SG</td>\n      <td>23</td>\n      <td>SAC</td>\n      <td>59</td>\n      <td>2.0</td>\n      <td>0.9</td>\n      <td>0.6</td>\n      <td>0.2</td>\n      <td>6.4</td>\n      <td>1997-98</td>\n      <td>False</td>\n    </tr>\n    <tr>\n      <th>2</th>\n      <td>3</td>\n      <td>Shareef Abdur-Rahim</td>\n      <td>SF</td>\n      <td>21</td>\n      <td>VAN</td>\n      <td>82</td>\n      <td>7.1</td>\n      <td>2.6</td>\n      <td>1.1</td>\n      <td>0.9</td>\n      <td>22.3</td>\n      <td>1997-98</td>\n      <td>False</td>\n    </tr>\n    <tr>\n      <th>3</th>\n      <td>4</td>\n      <td>Cory Alexander</td>\n      <td>PG</td>\n      <td>24</td>\n      <td>TOT</td>\n      <td>60</td>\n      <td>2.4</td>\n      <td>3.5</td>\n      <td>1.2</td>\n      <td>0.2</td>\n      <td>8.1</td>\n      <td>1997-98</td>\n      <td>False</td>\n    </tr>\n    <tr>\n      <th>4</th>\n      <td>4</td>\n      <td>Cory Alexander</td>\n      <td>PG</td>\n      <td>24</td>\n      <td>SAS</td>\n      <td>37</td>\n      <td>1.3</td>\n      <td>1.9</td>\n      <td>0.7</td>\n      <td>0.1</td>\n      <td>4.5</td>\n      <td>1997-98</td>\n      <td>False</td>\n    </tr>\n  </tbody>\n</table>\n</div>"
     },
     "execution_count": 126,
     "metadata": {},
     "output_type": "execute_result"
    }
   ],
   "source": [
    "# Filter the desired columns\n",
    "filtered_nba_data = nba_data[[\"Rk\", \"Player\", \"Pos\", \"Age\", \"Tm\", \"G\", \"TRB\", \"AST\", \"STL\", \"BLK\", \"PTS\", \"Season\", \"MVP\"]]\n",
    "\n",
    "# Display the first few rows of the filtered data\n",
    "filtered_nba_data.head()"
   ],
   "metadata": {
    "collapsed": false,
    "pycharm": {
     "name": "#%%\n"
    }
   }
  },
  {
   "cell_type": "code",
   "execution_count": 127,
   "outputs": [
    {
     "data": {
      "text/plain": "      Rk             Player Pos  Age   Tm   G  TRB  AST  STL  BLK   PTS  \\\n6388   1      Arron Afflalo  SG   24  DEN  82  3.1  1.7  0.6  0.4   8.8   \n6389   2      Alexis Ajinça   C   21  CHA   6  0.7  0.0  0.2  0.2   1.7   \n6390   3  LaMarcus Aldridge  PF   24  POR  78  8.0  2.1  0.9  0.6  17.9   \n6391   4      Joe Alexander  SF   23  CHI   8  0.6  0.3  0.1  0.1   0.5   \n6392   5        Malik Allen  PF   31  DEN  51  1.6  0.3  0.2  0.1   2.1   \n\n       Season    MVP  \n6388  2009-10  False  \n6389  2009-10  False  \n6390  2009-10  False  \n6391  2009-10  False  \n6392  2009-10  False  ",
      "text/html": "<div>\n<style scoped>\n    .dataframe tbody tr th:only-of-type {\n        vertical-align: middle;\n    }\n\n    .dataframe tbody tr th {\n        vertical-align: top;\n    }\n\n    .dataframe thead th {\n        text-align: right;\n    }\n</style>\n<table border=\"1\" class=\"dataframe\">\n  <thead>\n    <tr style=\"text-align: right;\">\n      <th></th>\n      <th>Rk</th>\n      <th>Player</th>\n      <th>Pos</th>\n      <th>Age</th>\n      <th>Tm</th>\n      <th>G</th>\n      <th>TRB</th>\n      <th>AST</th>\n      <th>STL</th>\n      <th>BLK</th>\n      <th>PTS</th>\n      <th>Season</th>\n      <th>MVP</th>\n    </tr>\n  </thead>\n  <tbody>\n    <tr>\n      <th>6388</th>\n      <td>1</td>\n      <td>Arron Afflalo</td>\n      <td>SG</td>\n      <td>24</td>\n      <td>DEN</td>\n      <td>82</td>\n      <td>3.1</td>\n      <td>1.7</td>\n      <td>0.6</td>\n      <td>0.4</td>\n      <td>8.8</td>\n      <td>2009-10</td>\n      <td>False</td>\n    </tr>\n    <tr>\n      <th>6389</th>\n      <td>2</td>\n      <td>Alexis Ajinça</td>\n      <td>C</td>\n      <td>21</td>\n      <td>CHA</td>\n      <td>6</td>\n      <td>0.7</td>\n      <td>0.0</td>\n      <td>0.2</td>\n      <td>0.2</td>\n      <td>1.7</td>\n      <td>2009-10</td>\n      <td>False</td>\n    </tr>\n    <tr>\n      <th>6390</th>\n      <td>3</td>\n      <td>LaMarcus Aldridge</td>\n      <td>PF</td>\n      <td>24</td>\n      <td>POR</td>\n      <td>78</td>\n      <td>8.0</td>\n      <td>2.1</td>\n      <td>0.9</td>\n      <td>0.6</td>\n      <td>17.9</td>\n      <td>2009-10</td>\n      <td>False</td>\n    </tr>\n    <tr>\n      <th>6391</th>\n      <td>4</td>\n      <td>Joe Alexander</td>\n      <td>SF</td>\n      <td>23</td>\n      <td>CHI</td>\n      <td>8</td>\n      <td>0.6</td>\n      <td>0.3</td>\n      <td>0.1</td>\n      <td>0.1</td>\n      <td>0.5</td>\n      <td>2009-10</td>\n      <td>False</td>\n    </tr>\n    <tr>\n      <th>6392</th>\n      <td>5</td>\n      <td>Malik Allen</td>\n      <td>PF</td>\n      <td>31</td>\n      <td>DEN</td>\n      <td>51</td>\n      <td>1.6</td>\n      <td>0.3</td>\n      <td>0.2</td>\n      <td>0.1</td>\n      <td>2.1</td>\n      <td>2009-10</td>\n      <td>False</td>\n    </tr>\n  </tbody>\n</table>\n</div>"
     },
     "execution_count": 127,
     "metadata": {},
     "output_type": "execute_result"
    }
   ],
   "source": [
    "# Filter out rows where the Season is before \"2008-09\"\n",
    "filtered_nba_data = filtered_nba_data[filtered_nba_data[\"Season\"] > \"2008-09\"]\n",
    "\n",
    "# Display the first few rows of the updated data\n",
    "filtered_nba_data.head()"
   ],
   "metadata": {
    "collapsed": false,
    "pycharm": {
     "name": "#%%\n"
    }
   }
  },
  {
   "cell_type": "code",
   "execution_count": 128,
   "outputs": [
    {
     "data": {
      "text/plain": "      Rk             Player Pos  Age   Tm   G  TRB  AST  STL  BLK   PTS  \\\n6388   1      Arron Afflalo  SG   24  DEN  82  3.1  1.7  0.6  0.4   8.8   \n6389   2      Alexis Ajinça   C   21  CHA   6  0.7  0.0  0.2  0.2   1.7   \n6390   3  LaMarcus Aldridge  PF   24  POR  78  8.0  2.1  0.9  0.6  17.9   \n6391   4      Joe Alexander  SF   23  CHI   8  0.6  0.3  0.1  0.1   0.5   \n6392   5        Malik Allen  PF   31  DEN  51  1.6  0.3  0.2  0.1   2.1   \n\n     Season    MVP  \n6388     10  False  \n6389     10  False  \n6390     10  False  \n6391     10  False  \n6392     10  False  ",
      "text/html": "<div>\n<style scoped>\n    .dataframe tbody tr th:only-of-type {\n        vertical-align: middle;\n    }\n\n    .dataframe tbody tr th {\n        vertical-align: top;\n    }\n\n    .dataframe thead th {\n        text-align: right;\n    }\n</style>\n<table border=\"1\" class=\"dataframe\">\n  <thead>\n    <tr style=\"text-align: right;\">\n      <th></th>\n      <th>Rk</th>\n      <th>Player</th>\n      <th>Pos</th>\n      <th>Age</th>\n      <th>Tm</th>\n      <th>G</th>\n      <th>TRB</th>\n      <th>AST</th>\n      <th>STL</th>\n      <th>BLK</th>\n      <th>PTS</th>\n      <th>Season</th>\n      <th>MVP</th>\n    </tr>\n  </thead>\n  <tbody>\n    <tr>\n      <th>6388</th>\n      <td>1</td>\n      <td>Arron Afflalo</td>\n      <td>SG</td>\n      <td>24</td>\n      <td>DEN</td>\n      <td>82</td>\n      <td>3.1</td>\n      <td>1.7</td>\n      <td>0.6</td>\n      <td>0.4</td>\n      <td>8.8</td>\n      <td>10</td>\n      <td>False</td>\n    </tr>\n    <tr>\n      <th>6389</th>\n      <td>2</td>\n      <td>Alexis Ajinça</td>\n      <td>C</td>\n      <td>21</td>\n      <td>CHA</td>\n      <td>6</td>\n      <td>0.7</td>\n      <td>0.0</td>\n      <td>0.2</td>\n      <td>0.2</td>\n      <td>1.7</td>\n      <td>10</td>\n      <td>False</td>\n    </tr>\n    <tr>\n      <th>6390</th>\n      <td>3</td>\n      <td>LaMarcus Aldridge</td>\n      <td>PF</td>\n      <td>24</td>\n      <td>POR</td>\n      <td>78</td>\n      <td>8.0</td>\n      <td>2.1</td>\n      <td>0.9</td>\n      <td>0.6</td>\n      <td>17.9</td>\n      <td>10</td>\n      <td>False</td>\n    </tr>\n    <tr>\n      <th>6391</th>\n      <td>4</td>\n      <td>Joe Alexander</td>\n      <td>SF</td>\n      <td>23</td>\n      <td>CHI</td>\n      <td>8</td>\n      <td>0.6</td>\n      <td>0.3</td>\n      <td>0.1</td>\n      <td>0.1</td>\n      <td>0.5</td>\n      <td>10</td>\n      <td>False</td>\n    </tr>\n    <tr>\n      <th>6392</th>\n      <td>5</td>\n      <td>Malik Allen</td>\n      <td>PF</td>\n      <td>31</td>\n      <td>DEN</td>\n      <td>51</td>\n      <td>1.6</td>\n      <td>0.3</td>\n      <td>0.2</td>\n      <td>0.1</td>\n      <td>2.1</td>\n      <td>10</td>\n      <td>False</td>\n    </tr>\n  </tbody>\n</table>\n</div>"
     },
     "execution_count": 128,
     "metadata": {},
     "output_type": "execute_result"
    }
   ],
   "source": [
    "# Modify the \"Season\" column to keep only the last two characters\n",
    "filtered_nba_data[\"Season\"] = filtered_nba_data[\"Season\"].str[-2:]\n",
    "\n",
    "# Display the first few rows of the updated data\n",
    "filtered_nba_data.head()"
   ],
   "metadata": {
    "collapsed": false,
    "pycharm": {
     "name": "#%%\n"
    }
   }
  },
  {
   "cell_type": "code",
   "execution_count": 129,
   "outputs": [
    {
     "data": {
      "text/plain": "      Rk             Player Pos  Age   G  TRB  AST  STL  BLK   PTS Season  \\\n6388   1      Arron Afflalo  SG   24  82  3.1  1.7  0.6  0.4   8.8     10   \n6389   2      Alexis Ajinça   C   21   6  0.7  0.0  0.2  0.2   1.7     10   \n6390   3  LaMarcus Aldridge  PF   24  78  8.0  2.1  0.9  0.6  17.9     10   \n6391   4      Joe Alexander  SF   23   8  0.6  0.3  0.1  0.1   0.5     10   \n6392   5        Malik Allen  PF   31  51  1.6  0.3  0.2  0.1   2.1     10   \n\n        MVP  \n6388  False  \n6389  False  \n6390  False  \n6391  False  \n6392  False  ",
      "text/html": "<div>\n<style scoped>\n    .dataframe tbody tr th:only-of-type {\n        vertical-align: middle;\n    }\n\n    .dataframe tbody tr th {\n        vertical-align: top;\n    }\n\n    .dataframe thead th {\n        text-align: right;\n    }\n</style>\n<table border=\"1\" class=\"dataframe\">\n  <thead>\n    <tr style=\"text-align: right;\">\n      <th></th>\n      <th>Rk</th>\n      <th>Player</th>\n      <th>Pos</th>\n      <th>Age</th>\n      <th>G</th>\n      <th>TRB</th>\n      <th>AST</th>\n      <th>STL</th>\n      <th>BLK</th>\n      <th>PTS</th>\n      <th>Season</th>\n      <th>MVP</th>\n    </tr>\n  </thead>\n  <tbody>\n    <tr>\n      <th>6388</th>\n      <td>1</td>\n      <td>Arron Afflalo</td>\n      <td>SG</td>\n      <td>24</td>\n      <td>82</td>\n      <td>3.1</td>\n      <td>1.7</td>\n      <td>0.6</td>\n      <td>0.4</td>\n      <td>8.8</td>\n      <td>10</td>\n      <td>False</td>\n    </tr>\n    <tr>\n      <th>6389</th>\n      <td>2</td>\n      <td>Alexis Ajinça</td>\n      <td>C</td>\n      <td>21</td>\n      <td>6</td>\n      <td>0.7</td>\n      <td>0.0</td>\n      <td>0.2</td>\n      <td>0.2</td>\n      <td>1.7</td>\n      <td>10</td>\n      <td>False</td>\n    </tr>\n    <tr>\n      <th>6390</th>\n      <td>3</td>\n      <td>LaMarcus Aldridge</td>\n      <td>PF</td>\n      <td>24</td>\n      <td>78</td>\n      <td>8.0</td>\n      <td>2.1</td>\n      <td>0.9</td>\n      <td>0.6</td>\n      <td>17.9</td>\n      <td>10</td>\n      <td>False</td>\n    </tr>\n    <tr>\n      <th>6391</th>\n      <td>4</td>\n      <td>Joe Alexander</td>\n      <td>SF</td>\n      <td>23</td>\n      <td>8</td>\n      <td>0.6</td>\n      <td>0.3</td>\n      <td>0.1</td>\n      <td>0.1</td>\n      <td>0.5</td>\n      <td>10</td>\n      <td>False</td>\n    </tr>\n    <tr>\n      <th>6392</th>\n      <td>5</td>\n      <td>Malik Allen</td>\n      <td>PF</td>\n      <td>31</td>\n      <td>51</td>\n      <td>1.6</td>\n      <td>0.3</td>\n      <td>0.2</td>\n      <td>0.1</td>\n      <td>2.1</td>\n      <td>10</td>\n      <td>False</td>\n    </tr>\n  </tbody>\n</table>\n</div>"
     },
     "execution_count": 129,
     "metadata": {},
     "output_type": "execute_result"
    }
   ],
   "source": [
    "# Drop the \"Tm\" column\n",
    "filtered_nba_data = filtered_nba_data.drop(columns=[\"Tm\"])\n",
    "\n",
    "# Display the first few rows of the updated data\n",
    "filtered_nba_data.head()"
   ],
   "metadata": {
    "collapsed": false,
    "pycharm": {
     "name": "#%%\n"
    }
   }
  },
  {
   "cell_type": "code",
   "execution_count": 130,
   "outputs": [
    {
     "data": {
      "text/plain": "        Rk             Player Pos  Age   G  TRB  AST  STL  BLK   PTS Season  \\\n6388     1      Arron Afflalo  SG   24  82  3.1  1.7  0.6  0.4   8.8     10   \n6389     2      Alexis Ajinça   C   21   6  0.7  0.0  0.2  0.2   1.7     10   \n6390     3  LaMarcus Aldridge  PF   24  78  8.0  2.1  0.9  0.6  17.9     10   \n6391     4      Joe Alexander  SF   23   8  0.6  0.3  0.1  0.1   0.5     10   \n6392     5        Malik Allen  PF   31  51  1.6  0.3  0.2  0.1   2.1     10   \n...    ...                ...  ..  ...  ..  ...  ...  ...  ...   ...    ...   \n14568  601     Thaddeus Young  PF   33  26  4.4  1.7  1.2  0.4   6.3     22   \n14569  602         Trae Young  PG   23  76  3.7  9.7  0.9  0.1  28.4     22   \n14570  603     Omer Yurtseven   C   23  56  5.3  0.9  0.3  0.4   5.3     22   \n14571  604        Cody Zeller   C   29  27  4.6  0.8  0.3  0.2   5.2     22   \n14572  605        Ivica Zubac   C   24  76  8.5  1.6  0.5  1.0  10.3     22   \n\n         MVP  \n6388   False  \n6389   False  \n6390   False  \n6391   False  \n6392   False  \n...      ...  \n14568  False  \n14569  False  \n14570  False  \n14571  False  \n14572  False  \n\n[8185 rows x 12 columns]",
      "text/html": "<div>\n<style scoped>\n    .dataframe tbody tr th:only-of-type {\n        vertical-align: middle;\n    }\n\n    .dataframe tbody tr th {\n        vertical-align: top;\n    }\n\n    .dataframe thead th {\n        text-align: right;\n    }\n</style>\n<table border=\"1\" class=\"dataframe\">\n  <thead>\n    <tr style=\"text-align: right;\">\n      <th></th>\n      <th>Rk</th>\n      <th>Player</th>\n      <th>Pos</th>\n      <th>Age</th>\n      <th>G</th>\n      <th>TRB</th>\n      <th>AST</th>\n      <th>STL</th>\n      <th>BLK</th>\n      <th>PTS</th>\n      <th>Season</th>\n      <th>MVP</th>\n    </tr>\n  </thead>\n  <tbody>\n    <tr>\n      <th>6388</th>\n      <td>1</td>\n      <td>Arron Afflalo</td>\n      <td>SG</td>\n      <td>24</td>\n      <td>82</td>\n      <td>3.1</td>\n      <td>1.7</td>\n      <td>0.6</td>\n      <td>0.4</td>\n      <td>8.8</td>\n      <td>10</td>\n      <td>False</td>\n    </tr>\n    <tr>\n      <th>6389</th>\n      <td>2</td>\n      <td>Alexis Ajinça</td>\n      <td>C</td>\n      <td>21</td>\n      <td>6</td>\n      <td>0.7</td>\n      <td>0.0</td>\n      <td>0.2</td>\n      <td>0.2</td>\n      <td>1.7</td>\n      <td>10</td>\n      <td>False</td>\n    </tr>\n    <tr>\n      <th>6390</th>\n      <td>3</td>\n      <td>LaMarcus Aldridge</td>\n      <td>PF</td>\n      <td>24</td>\n      <td>78</td>\n      <td>8.0</td>\n      <td>2.1</td>\n      <td>0.9</td>\n      <td>0.6</td>\n      <td>17.9</td>\n      <td>10</td>\n      <td>False</td>\n    </tr>\n    <tr>\n      <th>6391</th>\n      <td>4</td>\n      <td>Joe Alexander</td>\n      <td>SF</td>\n      <td>23</td>\n      <td>8</td>\n      <td>0.6</td>\n      <td>0.3</td>\n      <td>0.1</td>\n      <td>0.1</td>\n      <td>0.5</td>\n      <td>10</td>\n      <td>False</td>\n    </tr>\n    <tr>\n      <th>6392</th>\n      <td>5</td>\n      <td>Malik Allen</td>\n      <td>PF</td>\n      <td>31</td>\n      <td>51</td>\n      <td>1.6</td>\n      <td>0.3</td>\n      <td>0.2</td>\n      <td>0.1</td>\n      <td>2.1</td>\n      <td>10</td>\n      <td>False</td>\n    </tr>\n    <tr>\n      <th>...</th>\n      <td>...</td>\n      <td>...</td>\n      <td>...</td>\n      <td>...</td>\n      <td>...</td>\n      <td>...</td>\n      <td>...</td>\n      <td>...</td>\n      <td>...</td>\n      <td>...</td>\n      <td>...</td>\n      <td>...</td>\n    </tr>\n    <tr>\n      <th>14568</th>\n      <td>601</td>\n      <td>Thaddeus Young</td>\n      <td>PF</td>\n      <td>33</td>\n      <td>26</td>\n      <td>4.4</td>\n      <td>1.7</td>\n      <td>1.2</td>\n      <td>0.4</td>\n      <td>6.3</td>\n      <td>22</td>\n      <td>False</td>\n    </tr>\n    <tr>\n      <th>14569</th>\n      <td>602</td>\n      <td>Trae Young</td>\n      <td>PG</td>\n      <td>23</td>\n      <td>76</td>\n      <td>3.7</td>\n      <td>9.7</td>\n      <td>0.9</td>\n      <td>0.1</td>\n      <td>28.4</td>\n      <td>22</td>\n      <td>False</td>\n    </tr>\n    <tr>\n      <th>14570</th>\n      <td>603</td>\n      <td>Omer Yurtseven</td>\n      <td>C</td>\n      <td>23</td>\n      <td>56</td>\n      <td>5.3</td>\n      <td>0.9</td>\n      <td>0.3</td>\n      <td>0.4</td>\n      <td>5.3</td>\n      <td>22</td>\n      <td>False</td>\n    </tr>\n    <tr>\n      <th>14571</th>\n      <td>604</td>\n      <td>Cody Zeller</td>\n      <td>C</td>\n      <td>29</td>\n      <td>27</td>\n      <td>4.6</td>\n      <td>0.8</td>\n      <td>0.3</td>\n      <td>0.2</td>\n      <td>5.2</td>\n      <td>22</td>\n      <td>False</td>\n    </tr>\n    <tr>\n      <th>14572</th>\n      <td>605</td>\n      <td>Ivica Zubac</td>\n      <td>C</td>\n      <td>24</td>\n      <td>76</td>\n      <td>8.5</td>\n      <td>1.6</td>\n      <td>0.5</td>\n      <td>1.0</td>\n      <td>10.3</td>\n      <td>22</td>\n      <td>False</td>\n    </tr>\n  </tbody>\n</table>\n<p>8185 rows × 12 columns</p>\n</div>"
     },
     "execution_count": 130,
     "metadata": {},
     "output_type": "execute_result"
    }
   ],
   "source": [
    "# Group by Player and Season and calculate the weighted stats\n",
    "grouped = filtered_nba_data.groupby(['Player', 'Season'])\n",
    "grouped.head()"
   ],
   "metadata": {
    "collapsed": false,
    "pycharm": {
     "name": "#%%\n"
    }
   }
  },
  {
   "cell_type": "code",
   "execution_count": 131,
   "outputs": [
    {
     "data": {
      "text/plain": "             Player Season   Rk  TRB  AST  STL  BLK  PTS   G Pos   Age    MVP\n0      A.J. Hammons     17  171  1.6  0.2  0.0  0.6  2.2  22   C  24.0  False\n1        A.J. Price     10  335  1.6  1.9  0.6  0.1  7.3  56  PG  23.0  False\n2        A.J. Price     11  339  1.4  2.2  0.6  0.0  6.5  50  PG  24.0  False\n3        A.J. Price     12  357  1.4  2.0  0.5  0.0  3.9  44  PG  25.0  False\n4        A.J. Price     13  344  2.0  3.6  0.6  0.1  7.7  57  PG  26.0  False\n...             ...    ...  ...  ...  ...  ...  ...  ...  ..  ..   ...    ...\n6432   Álex Abrines     19    1  1.5  0.6  0.5  0.2  5.3  31  SG  25.0  False\n6433  Ángel Delgado     19  132  2.0  0.0  0.5  0.0  1.5   2   C  24.0  False\n6434      Ömer Aşık     11   24  3.7  0.4  0.2  0.7  2.8  82   C  24.0  False\n6435      Ömer Aşık     12   21  5.3  0.5  0.5  1.0  3.1  66   C  25.0  False\n6436      Ömer Aşık     18   23  2.6  0.2  0.1  0.2  1.2  18   C  31.0  False\n\n[6437 rows x 12 columns]",
      "text/html": "<div>\n<style scoped>\n    .dataframe tbody tr th:only-of-type {\n        vertical-align: middle;\n    }\n\n    .dataframe tbody tr th {\n        vertical-align: top;\n    }\n\n    .dataframe thead th {\n        text-align: right;\n    }\n</style>\n<table border=\"1\" class=\"dataframe\">\n  <thead>\n    <tr style=\"text-align: right;\">\n      <th></th>\n      <th>Player</th>\n      <th>Season</th>\n      <th>Rk</th>\n      <th>TRB</th>\n      <th>AST</th>\n      <th>STL</th>\n      <th>BLK</th>\n      <th>PTS</th>\n      <th>G</th>\n      <th>Pos</th>\n      <th>Age</th>\n      <th>MVP</th>\n    </tr>\n  </thead>\n  <tbody>\n    <tr>\n      <th>0</th>\n      <td>A.J. Hammons</td>\n      <td>17</td>\n      <td>171</td>\n      <td>1.6</td>\n      <td>0.2</td>\n      <td>0.0</td>\n      <td>0.6</td>\n      <td>2.2</td>\n      <td>22</td>\n      <td>C</td>\n      <td>24.0</td>\n      <td>False</td>\n    </tr>\n    <tr>\n      <th>1</th>\n      <td>A.J. Price</td>\n      <td>10</td>\n      <td>335</td>\n      <td>1.6</td>\n      <td>1.9</td>\n      <td>0.6</td>\n      <td>0.1</td>\n      <td>7.3</td>\n      <td>56</td>\n      <td>PG</td>\n      <td>23.0</td>\n      <td>False</td>\n    </tr>\n    <tr>\n      <th>2</th>\n      <td>A.J. Price</td>\n      <td>11</td>\n      <td>339</td>\n      <td>1.4</td>\n      <td>2.2</td>\n      <td>0.6</td>\n      <td>0.0</td>\n      <td>6.5</td>\n      <td>50</td>\n      <td>PG</td>\n      <td>24.0</td>\n      <td>False</td>\n    </tr>\n    <tr>\n      <th>3</th>\n      <td>A.J. Price</td>\n      <td>12</td>\n      <td>357</td>\n      <td>1.4</td>\n      <td>2.0</td>\n      <td>0.5</td>\n      <td>0.0</td>\n      <td>3.9</td>\n      <td>44</td>\n      <td>PG</td>\n      <td>25.0</td>\n      <td>False</td>\n    </tr>\n    <tr>\n      <th>4</th>\n      <td>A.J. Price</td>\n      <td>13</td>\n      <td>344</td>\n      <td>2.0</td>\n      <td>3.6</td>\n      <td>0.6</td>\n      <td>0.1</td>\n      <td>7.7</td>\n      <td>57</td>\n      <td>PG</td>\n      <td>26.0</td>\n      <td>False</td>\n    </tr>\n    <tr>\n      <th>...</th>\n      <td>...</td>\n      <td>...</td>\n      <td>...</td>\n      <td>...</td>\n      <td>...</td>\n      <td>...</td>\n      <td>...</td>\n      <td>...</td>\n      <td>...</td>\n      <td>...</td>\n      <td>...</td>\n      <td>...</td>\n    </tr>\n    <tr>\n      <th>6432</th>\n      <td>Álex Abrines</td>\n      <td>19</td>\n      <td>1</td>\n      <td>1.5</td>\n      <td>0.6</td>\n      <td>0.5</td>\n      <td>0.2</td>\n      <td>5.3</td>\n      <td>31</td>\n      <td>SG</td>\n      <td>25.0</td>\n      <td>False</td>\n    </tr>\n    <tr>\n      <th>6433</th>\n      <td>Ángel Delgado</td>\n      <td>19</td>\n      <td>132</td>\n      <td>2.0</td>\n      <td>0.0</td>\n      <td>0.5</td>\n      <td>0.0</td>\n      <td>1.5</td>\n      <td>2</td>\n      <td>C</td>\n      <td>24.0</td>\n      <td>False</td>\n    </tr>\n    <tr>\n      <th>6434</th>\n      <td>Ömer Aşık</td>\n      <td>11</td>\n      <td>24</td>\n      <td>3.7</td>\n      <td>0.4</td>\n      <td>0.2</td>\n      <td>0.7</td>\n      <td>2.8</td>\n      <td>82</td>\n      <td>C</td>\n      <td>24.0</td>\n      <td>False</td>\n    </tr>\n    <tr>\n      <th>6435</th>\n      <td>Ömer Aşık</td>\n      <td>12</td>\n      <td>21</td>\n      <td>5.3</td>\n      <td>0.5</td>\n      <td>0.5</td>\n      <td>1.0</td>\n      <td>3.1</td>\n      <td>66</td>\n      <td>C</td>\n      <td>25.0</td>\n      <td>False</td>\n    </tr>\n    <tr>\n      <th>6436</th>\n      <td>Ömer Aşık</td>\n      <td>18</td>\n      <td>23</td>\n      <td>2.6</td>\n      <td>0.2</td>\n      <td>0.1</td>\n      <td>0.2</td>\n      <td>1.2</td>\n      <td>18</td>\n      <td>C</td>\n      <td>31.0</td>\n      <td>False</td>\n    </tr>\n  </tbody>\n</table>\n<p>6437 rows × 12 columns</p>\n</div>"
     },
     "execution_count": 131,
     "metadata": {},
     "output_type": "execute_result"
    }
   ],
   "source": [
    "# Calculate the weighted values for the specified columns based on the number of games played\n",
    "weighted_stats = filtered_nba_data.groupby(['Player', 'Season']).apply(\n",
    "    lambda x: pd.Series({\n",
    "        'TRB': (x['TRB'] * x['G']).sum() / x['G'].sum(),\n",
    "        'AST': (x['AST'] * x['G']).sum() / x['G'].sum(),\n",
    "        'STL': (x['STL'] * x['G']).sum() / x['G'].sum(),\n",
    "        'BLK': (x['BLK'] * x['G']).sum() / x['G'].sum(),\n",
    "        'PTS': (x['PTS'] * x['G']).sum() / x['G'].sum(),\n",
    "        'G': x['G'].sum(),\n",
    "        'Pos': x['Pos'].mode()[0],  # Mode will help in selecting the most frequent position for the player\n",
    "        'Age': x['Age'].mean(),  # Taking average age in case there are multiple entries\n",
    "        'MVP': x['MVP'].max()  # Max will help in capturing if the player was an MVP in any of the rows\n",
    "    })\n",
    ").reset_index()\n",
    "\n",
    "# Merge with original dataframe to get the 'Rk' column\n",
    "merged_data = pd.merge(filtered_nba_data[['Player', 'Season', 'Rk']], weighted_stats, on=['Player', 'Season'], how='right')\n",
    "\n",
    "# Remove duplicates\n",
    "unique_data = merged_data.drop_duplicates(subset=['Player', 'Season']).reset_index(drop=True)\n",
    "\n",
    "unique_data"
   ],
   "metadata": {
    "collapsed": false,
    "pycharm": {
     "name": "#%%\n"
    }
   }
  },
  {
   "cell_type": "code",
   "execution_count": 132,
   "outputs": [
    {
     "data": {
      "text/plain": "                       Player Season   Rk  TRB  AST  STL  BLK   PTS   G Pos  \\\n0                   O.J. Mayo     10  277  3.8  3.0  1.2  0.2  17.5  82  SG   \n1                  Lamar Odom     10  315  9.8  3.3  0.9  0.7  10.8  82  PF   \n2                  Tony Allen     10    7  2.7  1.3  1.1  0.4   6.1  54  SG   \n3            Antonio Anderson     10   12  1.0  0.0  0.0  0.0   2.0   1  SF   \n4               Solomon Jones     10  240  2.8  0.6  0.3  0.7   4.0  52   C   \n...                       ...    ...  ...  ...  ...  ...  ...   ...  ..  ..   \n6432       JaQuori McLaughlin     22  371  0.0  0.5  0.0  0.0   0.0   4  PG   \n6433          Otto Porter Jr.     22  453  5.7  1.5  1.1  0.5   8.2  63  PF   \n6434               Cat Barber     22   30  1.0  1.0  0.0  0.0   0.0   3  PG   \n6435  Timothé Luwawu-Cabarrot     22  342  1.6  0.8  0.3  0.1   4.4  52  SF   \n6436            Evan Fournier     22  174  2.6  2.1  1.0  0.3  14.1  80  SG   \n\n       Age    MVP  \n0     22.0  False  \n1     30.0  False  \n2     28.0  False  \n3     24.0  False  \n4     25.0  False  \n...    ...    ...  \n6432  24.0  False  \n6433  28.0  False  \n6434  27.0  False  \n6435  26.0  False  \n6436  29.0  False  \n\n[6437 rows x 12 columns]",
      "text/html": "<div>\n<style scoped>\n    .dataframe tbody tr th:only-of-type {\n        vertical-align: middle;\n    }\n\n    .dataframe tbody tr th {\n        vertical-align: top;\n    }\n\n    .dataframe thead th {\n        text-align: right;\n    }\n</style>\n<table border=\"1\" class=\"dataframe\">\n  <thead>\n    <tr style=\"text-align: right;\">\n      <th></th>\n      <th>Player</th>\n      <th>Season</th>\n      <th>Rk</th>\n      <th>TRB</th>\n      <th>AST</th>\n      <th>STL</th>\n      <th>BLK</th>\n      <th>PTS</th>\n      <th>G</th>\n      <th>Pos</th>\n      <th>Age</th>\n      <th>MVP</th>\n    </tr>\n  </thead>\n  <tbody>\n    <tr>\n      <th>0</th>\n      <td>O.J. Mayo</td>\n      <td>10</td>\n      <td>277</td>\n      <td>3.8</td>\n      <td>3.0</td>\n      <td>1.2</td>\n      <td>0.2</td>\n      <td>17.5</td>\n      <td>82</td>\n      <td>SG</td>\n      <td>22.0</td>\n      <td>False</td>\n    </tr>\n    <tr>\n      <th>1</th>\n      <td>Lamar Odom</td>\n      <td>10</td>\n      <td>315</td>\n      <td>9.8</td>\n      <td>3.3</td>\n      <td>0.9</td>\n      <td>0.7</td>\n      <td>10.8</td>\n      <td>82</td>\n      <td>PF</td>\n      <td>30.0</td>\n      <td>False</td>\n    </tr>\n    <tr>\n      <th>2</th>\n      <td>Tony Allen</td>\n      <td>10</td>\n      <td>7</td>\n      <td>2.7</td>\n      <td>1.3</td>\n      <td>1.1</td>\n      <td>0.4</td>\n      <td>6.1</td>\n      <td>54</td>\n      <td>SG</td>\n      <td>28.0</td>\n      <td>False</td>\n    </tr>\n    <tr>\n      <th>3</th>\n      <td>Antonio Anderson</td>\n      <td>10</td>\n      <td>12</td>\n      <td>1.0</td>\n      <td>0.0</td>\n      <td>0.0</td>\n      <td>0.0</td>\n      <td>2.0</td>\n      <td>1</td>\n      <td>SF</td>\n      <td>24.0</td>\n      <td>False</td>\n    </tr>\n    <tr>\n      <th>4</th>\n      <td>Solomon Jones</td>\n      <td>10</td>\n      <td>240</td>\n      <td>2.8</td>\n      <td>0.6</td>\n      <td>0.3</td>\n      <td>0.7</td>\n      <td>4.0</td>\n      <td>52</td>\n      <td>C</td>\n      <td>25.0</td>\n      <td>False</td>\n    </tr>\n    <tr>\n      <th>...</th>\n      <td>...</td>\n      <td>...</td>\n      <td>...</td>\n      <td>...</td>\n      <td>...</td>\n      <td>...</td>\n      <td>...</td>\n      <td>...</td>\n      <td>...</td>\n      <td>...</td>\n      <td>...</td>\n      <td>...</td>\n    </tr>\n    <tr>\n      <th>6432</th>\n      <td>JaQuori McLaughlin</td>\n      <td>22</td>\n      <td>371</td>\n      <td>0.0</td>\n      <td>0.5</td>\n      <td>0.0</td>\n      <td>0.0</td>\n      <td>0.0</td>\n      <td>4</td>\n      <td>PG</td>\n      <td>24.0</td>\n      <td>False</td>\n    </tr>\n    <tr>\n      <th>6433</th>\n      <td>Otto Porter Jr.</td>\n      <td>22</td>\n      <td>453</td>\n      <td>5.7</td>\n      <td>1.5</td>\n      <td>1.1</td>\n      <td>0.5</td>\n      <td>8.2</td>\n      <td>63</td>\n      <td>PF</td>\n      <td>28.0</td>\n      <td>False</td>\n    </tr>\n    <tr>\n      <th>6434</th>\n      <td>Cat Barber</td>\n      <td>22</td>\n      <td>30</td>\n      <td>1.0</td>\n      <td>1.0</td>\n      <td>0.0</td>\n      <td>0.0</td>\n      <td>0.0</td>\n      <td>3</td>\n      <td>PG</td>\n      <td>27.0</td>\n      <td>False</td>\n    </tr>\n    <tr>\n      <th>6435</th>\n      <td>Timothé Luwawu-Cabarrot</td>\n      <td>22</td>\n      <td>342</td>\n      <td>1.6</td>\n      <td>0.8</td>\n      <td>0.3</td>\n      <td>0.1</td>\n      <td>4.4</td>\n      <td>52</td>\n      <td>SF</td>\n      <td>26.0</td>\n      <td>False</td>\n    </tr>\n    <tr>\n      <th>6436</th>\n      <td>Evan Fournier</td>\n      <td>22</td>\n      <td>174</td>\n      <td>2.6</td>\n      <td>2.1</td>\n      <td>1.0</td>\n      <td>0.3</td>\n      <td>14.1</td>\n      <td>80</td>\n      <td>SG</td>\n      <td>29.0</td>\n      <td>False</td>\n    </tr>\n  </tbody>\n</table>\n<p>6437 rows × 12 columns</p>\n</div>"
     },
     "execution_count": 132,
     "metadata": {},
     "output_type": "execute_result"
    }
   ],
   "source": [
    "# Sort the dataframe by the \"Season\" column in ascending order\n",
    "sorted_data = unique_data.sort_values(by=\"Season\", ascending=True).reset_index(drop=True)\n",
    "sorted_data"
   ],
   "metadata": {
    "collapsed": false,
    "pycharm": {
     "name": "#%%\n"
    }
   }
  },
  {
   "cell_type": "code",
   "execution_count": 133,
   "outputs": [
    {
     "data": {
      "text/plain": "             Player Season   Rk  TRB  AST  STL  BLK   PTS   G Pos   Age    MVP\n0         O.J. Mayo     10  277  3.8  3.0  1.2  0.2  17.5  82  SG  22.0  False\n1        Lamar Odom     10  315  9.8  3.3  0.9  0.7  10.8  82  PF  30.0  False\n2        Tony Allen     10    7  2.7  1.3  1.1  0.4   6.1  54  SG  28.0  False\n3  Antonio Anderson     10   12  1.0  0.0  0.0  0.0   2.0   1  SF  24.0  False\n4     Solomon Jones     10  240  2.8  0.6  0.3  0.7   4.0  52   C  25.0  False",
      "text/html": "<div>\n<style scoped>\n    .dataframe tbody tr th:only-of-type {\n        vertical-align: middle;\n    }\n\n    .dataframe tbody tr th {\n        vertical-align: top;\n    }\n\n    .dataframe thead th {\n        text-align: right;\n    }\n</style>\n<table border=\"1\" class=\"dataframe\">\n  <thead>\n    <tr style=\"text-align: right;\">\n      <th></th>\n      <th>Player</th>\n      <th>Season</th>\n      <th>Rk</th>\n      <th>TRB</th>\n      <th>AST</th>\n      <th>STL</th>\n      <th>BLK</th>\n      <th>PTS</th>\n      <th>G</th>\n      <th>Pos</th>\n      <th>Age</th>\n      <th>MVP</th>\n    </tr>\n  </thead>\n  <tbody>\n    <tr>\n      <th>0</th>\n      <td>O.J. Mayo</td>\n      <td>10</td>\n      <td>277</td>\n      <td>3.8</td>\n      <td>3.0</td>\n      <td>1.2</td>\n      <td>0.2</td>\n      <td>17.5</td>\n      <td>82</td>\n      <td>SG</td>\n      <td>22.0</td>\n      <td>False</td>\n    </tr>\n    <tr>\n      <th>1</th>\n      <td>Lamar Odom</td>\n      <td>10</td>\n      <td>315</td>\n      <td>9.8</td>\n      <td>3.3</td>\n      <td>0.9</td>\n      <td>0.7</td>\n      <td>10.8</td>\n      <td>82</td>\n      <td>PF</td>\n      <td>30.0</td>\n      <td>False</td>\n    </tr>\n    <tr>\n      <th>2</th>\n      <td>Tony Allen</td>\n      <td>10</td>\n      <td>7</td>\n      <td>2.7</td>\n      <td>1.3</td>\n      <td>1.1</td>\n      <td>0.4</td>\n      <td>6.1</td>\n      <td>54</td>\n      <td>SG</td>\n      <td>28.0</td>\n      <td>False</td>\n    </tr>\n    <tr>\n      <th>3</th>\n      <td>Antonio Anderson</td>\n      <td>10</td>\n      <td>12</td>\n      <td>1.0</td>\n      <td>0.0</td>\n      <td>0.0</td>\n      <td>0.0</td>\n      <td>2.0</td>\n      <td>1</td>\n      <td>SF</td>\n      <td>24.0</td>\n      <td>False</td>\n    </tr>\n    <tr>\n      <th>4</th>\n      <td>Solomon Jones</td>\n      <td>10</td>\n      <td>240</td>\n      <td>2.8</td>\n      <td>0.6</td>\n      <td>0.3</td>\n      <td>0.7</td>\n      <td>4.0</td>\n      <td>52</td>\n      <td>C</td>\n      <td>25.0</td>\n      <td>False</td>\n    </tr>\n  </tbody>\n</table>\n</div>"
     },
     "execution_count": 133,
     "metadata": {},
     "output_type": "execute_result"
    }
   ],
   "source": [
    "# Round the specified columns to two decimal places\n",
    "cols_to_round = [\"TRB\", \"AST\", \"STL\", \"BLK\", \"PTS\"]\n",
    "sorted_data[cols_to_round] = sorted_data[cols_to_round].round(2)\n",
    "\n",
    "sorted_data.head()"
   ],
   "metadata": {
    "collapsed": false,
    "pycharm": {
     "name": "#%%\n"
    }
   }
  },
  {
   "cell_type": "code",
   "execution_count": 140,
   "outputs": [
    {
     "data": {
      "text/plain": "     Season                 Player  Player Score   TRB   AST  STL  BLK   PTS\n357      10           LeBron James         84.15   7.3   8.6  1.6  1.0  29.7\n710      11          Dwight Howard         76.75  14.1   1.4  1.4  2.4  22.9\n1265     12           LeBron James         76.95   7.9   6.2  1.9  0.8  27.1\n1437     13           LeBron James         78.60   8.0   7.3  1.7  0.9  26.8\n2075     14           Kevin Durant         79.80   7.4   5.5  1.3  0.7  32.0\n2585     15      Russell Westbrook         80.85   7.3   8.6  2.1  0.2  28.1\n3143     16       DeMarcus Cousins         78.95  11.5   3.3  1.6  1.4  26.9\n3436     17      Russell Westbrook         95.60  10.7  10.4  1.6  0.4  31.6\n3863     18      Russell Westbrook         85.20  10.1  10.3  1.8  0.3  25.4\n4382     19           James Harden         90.45   6.6   7.5  2.0  0.7  36.1\n4831     20  Giannis Antetokounmpo         88.65  13.6   5.6  1.0  1.0  29.5\n5724     21      Russell Westbrook         85.10  11.5  11.7  1.4  0.4  22.2\n6276     22           Nikola Jokić         91.25  13.8   7.9  1.5  0.9  27.1",
      "text/html": "<div>\n<style scoped>\n    .dataframe tbody tr th:only-of-type {\n        vertical-align: middle;\n    }\n\n    .dataframe tbody tr th {\n        vertical-align: top;\n    }\n\n    .dataframe thead th {\n        text-align: right;\n    }\n</style>\n<table border=\"1\" class=\"dataframe\">\n  <thead>\n    <tr style=\"text-align: right;\">\n      <th></th>\n      <th>Season</th>\n      <th>Player</th>\n      <th>Player Score</th>\n      <th>TRB</th>\n      <th>AST</th>\n      <th>STL</th>\n      <th>BLK</th>\n      <th>PTS</th>\n    </tr>\n  </thead>\n  <tbody>\n    <tr>\n      <th>357</th>\n      <td>10</td>\n      <td>LeBron James</td>\n      <td>84.15</td>\n      <td>7.3</td>\n      <td>8.6</td>\n      <td>1.6</td>\n      <td>1.0</td>\n      <td>29.7</td>\n    </tr>\n    <tr>\n      <th>710</th>\n      <td>11</td>\n      <td>Dwight Howard</td>\n      <td>76.75</td>\n      <td>14.1</td>\n      <td>1.4</td>\n      <td>1.4</td>\n      <td>2.4</td>\n      <td>22.9</td>\n    </tr>\n    <tr>\n      <th>1265</th>\n      <td>12</td>\n      <td>LeBron James</td>\n      <td>76.95</td>\n      <td>7.9</td>\n      <td>6.2</td>\n      <td>1.9</td>\n      <td>0.8</td>\n      <td>27.1</td>\n    </tr>\n    <tr>\n      <th>1437</th>\n      <td>13</td>\n      <td>LeBron James</td>\n      <td>78.60</td>\n      <td>8.0</td>\n      <td>7.3</td>\n      <td>1.7</td>\n      <td>0.9</td>\n      <td>26.8</td>\n    </tr>\n    <tr>\n      <th>2075</th>\n      <td>14</td>\n      <td>Kevin Durant</td>\n      <td>79.80</td>\n      <td>7.4</td>\n      <td>5.5</td>\n      <td>1.3</td>\n      <td>0.7</td>\n      <td>32.0</td>\n    </tr>\n    <tr>\n      <th>2585</th>\n      <td>15</td>\n      <td>Russell Westbrook</td>\n      <td>80.85</td>\n      <td>7.3</td>\n      <td>8.6</td>\n      <td>2.1</td>\n      <td>0.2</td>\n      <td>28.1</td>\n    </tr>\n    <tr>\n      <th>3143</th>\n      <td>16</td>\n      <td>DeMarcus Cousins</td>\n      <td>78.95</td>\n      <td>11.5</td>\n      <td>3.3</td>\n      <td>1.6</td>\n      <td>1.4</td>\n      <td>26.9</td>\n    </tr>\n    <tr>\n      <th>3436</th>\n      <td>17</td>\n      <td>Russell Westbrook</td>\n      <td>95.60</td>\n      <td>10.7</td>\n      <td>10.4</td>\n      <td>1.6</td>\n      <td>0.4</td>\n      <td>31.6</td>\n    </tr>\n    <tr>\n      <th>3863</th>\n      <td>18</td>\n      <td>Russell Westbrook</td>\n      <td>85.20</td>\n      <td>10.1</td>\n      <td>10.3</td>\n      <td>1.8</td>\n      <td>0.3</td>\n      <td>25.4</td>\n    </tr>\n    <tr>\n      <th>4382</th>\n      <td>19</td>\n      <td>James Harden</td>\n      <td>90.45</td>\n      <td>6.6</td>\n      <td>7.5</td>\n      <td>2.0</td>\n      <td>0.7</td>\n      <td>36.1</td>\n    </tr>\n    <tr>\n      <th>4831</th>\n      <td>20</td>\n      <td>Giannis Antetokounmpo</td>\n      <td>88.65</td>\n      <td>13.6</td>\n      <td>5.6</td>\n      <td>1.0</td>\n      <td>1.0</td>\n      <td>29.5</td>\n    </tr>\n    <tr>\n      <th>5724</th>\n      <td>21</td>\n      <td>Russell Westbrook</td>\n      <td>85.10</td>\n      <td>11.5</td>\n      <td>11.7</td>\n      <td>1.4</td>\n      <td>0.4</td>\n      <td>22.2</td>\n    </tr>\n    <tr>\n      <th>6276</th>\n      <td>22</td>\n      <td>Nikola Jokić</td>\n      <td>91.25</td>\n      <td>13.8</td>\n      <td>7.9</td>\n      <td>1.5</td>\n      <td>0.9</td>\n      <td>27.1</td>\n    </tr>\n  </tbody>\n</table>\n</div>"
     },
     "execution_count": 140,
     "metadata": {},
     "output_type": "execute_result"
    }
   ],
   "source": [
    "# Define the weights\n",
    "weights = {\n",
    "    \"PTS\": 1.5,\n",
    "    \"TRB\": 2,\n",
    "    \"AST\": 2,\n",
    "    \"STL\": 3,\n",
    "    \"BLK\": 3\n",
    "}\n",
    "\n",
    "# Calculate the Player Score for each row\n",
    "sorted_data[\"Player Score\"] = (\n",
    "    sorted_data[\"PTS\"] * weights[\"PTS\"] +\n",
    "    sorted_data[\"TRB\"] * weights[\"TRB\"] +\n",
    "    sorted_data[\"AST\"] * weights[\"AST\"] +\n",
    "    sorted_data[\"STL\"] * weights[\"STL\"] +\n",
    "    sorted_data[\"BLK\"] * weights[\"BLK\"]\n",
    ")\n",
    "\n",
    "# Determine the best player for each season\n",
    "best_players = sorted_data.loc[sorted_data.groupby(\"Season\")[\"Player Score\"].idxmax()][[\"Season\", \"Player\", \"Player Score\", \"TRB\", \"AST\", \"STL\", \"BLK\", \"PTS\"]]\n",
    "\n",
    "best_players\n"
   ],
   "metadata": {
    "collapsed": false,
    "pycharm": {
     "name": "#%%\n"
    }
   }
  }
 ],
 "metadata": {
  "kernelspec": {
   "display_name": "Python 3",
   "language": "python",
   "name": "python3"
  },
  "language_info": {
   "codemirror_mode": {
    "name": "ipython",
    "version": 2
   },
   "file_extension": ".py",
   "mimetype": "text/x-python",
   "name": "python",
   "nbconvert_exporter": "python",
   "pygments_lexer": "ipython2",
   "version": "2.7.6"
  }
 },
 "nbformat": 4,
 "nbformat_minor": 0
}